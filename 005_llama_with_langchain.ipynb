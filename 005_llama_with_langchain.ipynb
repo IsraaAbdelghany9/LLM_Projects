{
 "cells": [
  {
   "cell_type": "code",
   "execution_count": null,
   "id": "124ff3f2",
   "metadata": {},
   "outputs": [],
   "source": []
  },
  {
   "cell_type": "markdown",
   "id": "80d5fc33",
   "metadata": {},
   "source": [
    "## `01` Import Libraries"
   ]
  },
  {
   "cell_type": "code",
   "execution_count": 14,
   "metadata": {},
   "outputs": [],
   "source": [
    "import os\n",
    "from dotenv import load_dotenv\n",
    "from langchain_ollama import ChatOllama\n",
    "from IPython.display import Markdown, display\n",
    "\n",
    "from langchain_core.output_parsers import StrOutputParser\n",
    "from langchain_core.prompts import PromptTemplate"
   ]
  },
  {
   "cell_type": "markdown",
   "id": "118131f6",
   "metadata": {},
   "source": [
    "## `02` Setup API Key"
   ]
  },
  {
   "cell_type": "code",
   "execution_count": 5,
   "metadata": {},
   "outputs": [
    {
     "data": {
      "text/plain": [
       "True"
      ]
     },
     "execution_count": 5,
     "metadata": {},
     "output_type": "execute_result"
    }
   ],
   "source": [
    "load_dotenv(\".env\")"
   ]
  },
  {
   "cell_type": "markdown",
   "id": "14c46881",
   "metadata": {},
   "source": [
    "## `03` Setup LLM"
   ]
  },
  {
   "cell_type": "code",
   "execution_count": 6,
   "id": "632f90df",
   "metadata": {},
   "outputs": [],
   "source": [
    "llm = ChatOllama(\n",
    "    model=\"llama3\",\n",
    "    temperature=0,\n",
    ")"
   ]
  },
  {
   "cell_type": "markdown",
   "id": "afd98906",
   "metadata": {},
   "source": [
    "## `04` Prompt"
   ]
  },
  {
   "cell_type": "code",
   "execution_count": 7,
   "id": "f2ea21bc",
   "metadata": {},
   "outputs": [],
   "source": [
    "summary_template = \"\"\"\n",
    "                    given the information {information} about a person fron I, I want you to create:\n",
    "                    1. A short summary of the person\n",
    "                    2. two interesting facts about the person\n",
    "\n",
    "                    Return the summary in markdown format.\n",
    "                    \"\"\"\n",
    "\n",
    "summary_prompt_template = PromptTemplate(\n",
    "    input_variables=[\"information\"],\n",
    "    template=summary_template,\n",
    ")"
   ]
  },
  {
   "cell_type": "code",
   "execution_count": 8,
   "id": "c354ebe8",
   "metadata": {},
   "outputs": [],
   "source": [
    "information = \"\"\"\n",
    "                Name: John Doe\n",
    "                Age: 30\n",
    "                Occupation: Software Engineer\n",
    "                Hobbies: Reading, Hiking, Playing Guitar\n",
    "                Education: Bachelor's Degree in Computer Science\n",
    "                Location: San Francisco, CA\n",
    "                Skills: Python, JavaScript, React, Node.js\n",
    "                Languages: English, Spanish\n",
    "                Achievements: Developed a popular open-source library, Speaker at tech conferences\n",
    "                Volunteer Work: Mentoring students in coding bootcamps, Participating in local hackathons\n",
    "                Personal Interests: Traveling, Cooking, Photography\n",
    "                Motto: \"Code is like humor. When you have to explain it, it’s bad.\"\n",
    "              \"\"\""
   ]
  },
  {
   "cell_type": "code",
   "execution_count": 15,
   "id": "bb68fe5f",
   "metadata": {},
   "outputs": [],
   "source": [
    "chain = summary_prompt_template | llm | StrOutputParser()"
   ]
  },
  {
   "cell_type": "code",
   "execution_count": 16,
   "id": "d76a28c4",
   "metadata": {},
   "outputs": [
    {
     "data": {
      "text/markdown": [
       "Here are the requested outputs:\n",
       "\n",
       "**Summary**\n",
       "================\n",
       "\n",
       "John Doe is a 30-year-old software engineer with a passion for coding, hiking, and playing guitar. With a Bachelor's degree in Computer Science, he has developed a popular open-source library and spoken at tech conferences. When not working, John enjoys traveling, cooking, and photography.\n",
       "\n",
       "**Interesting Facts**\n",
       "\n",
       "1. **Open-Source Library Developer**: John is the creator of a widely-used open-source library, showcasing his expertise in Python, JavaScript, React, and Node.js.\n",
       "2. **Tech Conference Speaker & Mentor**: As a speaker at tech conferences, John shares his knowledge with others. Additionally, he mentors students in coding bootcamps and participates in local hackathons, giving back to the community.\n",
       "\n",
       "Let me know if you'd like me to make any changes!"
      ],
      "text/plain": [
       "<IPython.core.display.Markdown object>"
      ]
     },
     "metadata": {},
     "output_type": "display_data"
    }
   ],
   "source": [
    "result = chain.invoke(input= {\"information\": information})\n",
    "display(Markdown(f\"{result}\"))"
   ]
  },
  {
   "cell_type": "code",
   "execution_count": null,
   "id": "23d3af9e",
   "metadata": {},
   "outputs": [],
   "source": []
  }
 ],
 "metadata": {
  "kernelspec": {
   "display_name": ".venv",
   "language": "python",
   "name": "python3"
  },
  "language_info": {
   "codemirror_mode": {
    "name": "ipython",
    "version": 3
   },
   "file_extension": ".py",
   "mimetype": "text/x-python",
   "name": "python",
   "nbconvert_exporter": "python",
   "pygments_lexer": "ipython3",
   "version": "3.10.12"
  }
 },
 "nbformat": 4,
 "nbformat_minor": 5
}
