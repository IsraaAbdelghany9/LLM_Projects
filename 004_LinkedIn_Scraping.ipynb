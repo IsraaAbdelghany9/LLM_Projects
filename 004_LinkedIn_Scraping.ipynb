{
 "cells": [
  {
   "cell_type": "markdown",
   "id": "e25d9c50",
   "metadata": {},
   "source": [
    "# 004_LinkedIn_Scraping"
   ]
  },
  {
   "cell_type": "markdown",
   "id": "11304488",
   "metadata": {},
   "source": [
    "## `01` Importing libraried"
   ]
  },
  {
   "cell_type": "code",
   "execution_count": 1,
   "id": "0eeaa494",
   "metadata": {},
   "outputs": [],
   "source": [
    "import os\n",
    "from dotenv import load_dotenv\n",
    "from langchain_google_genai import ChatGoogleGenerativeAI\n",
    "from IPython.display import Markdown, display\n",
    "from langchain_core.prompts import PromptTemplate\n",
    "\n",
    "from utils import *"
   ]
  },
  {
   "cell_type": "markdown",
   "id": "24c196b8",
   "metadata": {},
   "source": [
    "## `02` Setup API Key"
   ]
  },
  {
   "cell_type": "code",
   "execution_count": null,
   "metadata": {},
   "outputs": [
    {
     "data": {
      "text/plain": [
       "True"
      ]
     },
     "execution_count": 2,
     "metadata": {},
     "output_type": "execute_result"
    }
   ],
   "source": [
    "load_dotenv('.env')"
   ]
  },
  {
   "cell_type": "code",
   "execution_count": 3,
   "metadata": {},
   "outputs": [],
   "source": [
    "GEMINI_API_KEY = os.getenv('GEMINI_API_KEY')\n",
    "GEMINI_MODEL = os.getenv('GEMINI_MODEL')\n",
    "SCRAPIN_API_KEY = os.getenv('SCRAPIN_API_KEY')"
   ]
  },
  {
   "cell_type": "code",
   "execution_count": 4,
   "id": "acae7966",
   "metadata": {},
   "outputs": [
    {
     "name": "stdout",
     "output_type": "stream",
     "text": [
      "API key found and looks good so far!\n"
     ]
    }
   ],
   "source": [
    "validate_gemini_api_key(GEMINI_API_KEY)"
   ]
  },
  {
   "cell_type": "code",
   "execution_count": 5,
   "id": "2edd6faa",
   "metadata": {},
   "outputs": [
    {
     "name": "stdout",
     "output_type": "stream",
     "text": [
      "API key found and looks good so far!\n"
     ]
    }
   ],
   "source": [
    "validate_scrapin_api_key(SCRAPIN_API_KEY)"
   ]
  },
  {
   "cell_type": "code",
   "execution_count": null,
   "id": "7f577487",
   "metadata": {},
   "outputs": [],
   "source": []
  },
  {
   "cell_type": "code",
   "execution_count": 13,
   "id": "cb08c492",
   "metadata": {},
   "outputs": [],
   "source": [
    "# scrape_linkedin_profile(linkedin_profile_url=\"https://www.linkedin.com/in/israa-abdelghany/\")"
   ]
  },
  {
   "cell_type": "code",
   "execution_count": 14,
   "id": "0ae723e8",
   "metadata": {},
   "outputs": [],
   "source": [
    "llm = ChatGoogleGenerativeAI(\n",
    "    api_key=GEMINI_API_KEY,\n",
    "    model=GEMINI_MODEL,\n",
    "    temperature=0.1,\n",
    "    timeout=10,\n",
    ")"
   ]
  },
  {
   "cell_type": "code",
   "execution_count": 15,
   "id": "b66a3897",
   "metadata": {},
   "outputs": [],
   "source": [
    "prompt = PromptTemplate(\n",
    "    input_variables=[\"linkedin_profile_data\"],\n",
    "    template=\"\"\"\n",
    "    You are an expert in summarizing LinkedIn profiles. \n",
    "    Your task is to generate a concise and informative summary of the provided LinkedIn profile data.\n",
    "\n",
    "    Here is the LinkedIn profile data:\n",
    "    {linkedin_profile_data}\n",
    "\n",
    "    Please provide a summary of the profile, highlighting key skills, experiences, and achievements.\n",
    "    \"\"\",\n",
    ")"
   ]
  },
  {
   "cell_type": "code",
   "execution_count": null,
   "id": "f8a8f8b9",
   "metadata": {},
   "outputs": [],
   "source": [
    "def generate_summary(llm, prompt, linkedin_profile_data):\n",
    "    \"\"\"\n",
    "    Generate a summary of the LinkedIn profile data using the LLM.\n",
    "    \n",
    "    Args:\n",
    "        linkedin_profile_data (dict): The scraped LinkedIn profile data.\n",
    "    \n",
    "    Returns:\n",
    "        str: The generated summary of the LinkedIn profile.\n",
    "    \"\"\"\n",
    "    prompt_text = prompt.format(linkedin_profile_data=linkedin_profile_data)\n",
    "    response = llm.invoke(prompt_text)\n",
    "    return response.content\n",
    "\n",
    "def display_summary(summary):\n",
    "    \"\"\"\n",
    "    Display the generated summary in a Markdown format.\n",
    "    \n",
    "    Args:\n",
    "        summary (str): The generated summary of the LinkedIn profile.\n",
    "    \"\"\"\n",
    "    display(Markdown(f\"### LinkedIn Profile Summary\\n\\n{summary}\"))"
   ]
  },
  {
   "cell_type": "code",
   "execution_count": null,
   "id": "ae0ff749",
   "metadata": {},
   "outputs": [],
   "source": [
    "linkedin_profile_data = scrape_linkedin_profile(linkedin_profile_url=\"https://www.linkedin.com/in/israa-abdelghany/\")\n",
    "summary = generate_summary(llm= llm, prompt=prompt, linkedin_profile_data=linkedin_profile_data)\n",
    "display_summary(summary)"
   ]
  },
  {
   "cell_type": "code",
   "execution_count": null,
   "id": "6669d6fc",
   "metadata": {},
   "outputs": [],
   "source": []
  }
 ],
 "metadata": {
  "kernelspec": {
   "display_name": ".venv",
   "language": "python",
   "name": "python3"
  },
  "language_info": {
   "codemirror_mode": {
    "name": "ipython",
    "version": 3
   },
   "file_extension": ".py",
   "mimetype": "text/x-python",
   "name": "python",
   "nbconvert_exporter": "python",
   "pygments_lexer": "ipython3",
   "version": "3.10.12"
  }
 },
 "nbformat": 4,
 "nbformat_minor": 5
}
