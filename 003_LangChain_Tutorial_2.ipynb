{
 "cells": [
  {
   "cell_type": "markdown",
   "id": "80faf9cf",
   "metadata": {},
   "source": [
    "# LangChain_Tutorial_2"
   ]
  },
  {
   "cell_type": "markdown",
   "id": "5d92a4ca",
   "metadata": {},
   "source": [
    "## `01` Import Libraries"
   ]
  },
  {
   "cell_type": "code",
   "execution_count": 37,
   "id": "2d20c5e6",
   "metadata": {},
   "outputs": [],
   "source": [
    "import os\n",
    "from dotenv import load_dotenv\n",
    "from langchain_google_genai import ChatGoogleGenerativeAI\n",
    "from IPython.display import Markdown, display\n",
    "\n",
    "from langchain_core.prompts import PromptTemplate"
   ]
  },
  {
   "cell_type": "markdown",
   "id": "23cdfdf2",
   "metadata": {},
   "source": [
    "## `02` Setup API Key"
   ]
  },
  {
   "cell_type": "code",
   "execution_count": 15,
   "id": "907be023",
   "metadata": {},
   "outputs": [
    {
     "data": {
      "text/plain": [
       "True"
      ]
     },
     "execution_count": 15,
     "metadata": {},
     "output_type": "execute_result"
    }
   ],
   "source": [
    "load_dotenv(\".env\")"
   ]
  },
  {
   "cell_type": "code",
   "execution_count": 16,
   "id": "68fe3176",
   "metadata": {},
   "outputs": [],
   "source": [
    "GEMINI_API_KEY = os.getenv(\"GEMINI_API_KEY\")\n",
    "GEMINI_MODEL = os.getenv(\"GEMINI_MODEL\", \"gemini-1.5-flash\")"
   ]
  },
  {
   "cell_type": "code",
   "execution_count": 17,
   "id": "4b175b9e",
   "metadata": {},
   "outputs": [
    {
     "name": "stdout",
     "output_type": "stream",
     "text": [
      "API key found and looks good so far!\n"
     ]
    }
   ],
   "source": [
    "if not GEMINI_API_KEY:\n",
    "    print(\n",
    "        \"No API key was found - please head over to the troubleshooting notebook in this folder to identify & fix!\"\n",
    "    )\n",
    "elif not GEMINI_API_KEY.startswith(\"AIzaSy\"):\n",
    "    print(\n",
    "        \"An API key was found, but it doesn't start sk-proj-; please check you're using the right key - see troubleshooting notebook\"\n",
    "    )\n",
    "elif GEMINI_API_KEY.strip() != GEMINI_API_KEY:\n",
    "    print(\n",
    "        \"An API key was found, but it looks like it might have space or tab characters at the start or end - please remove them - see troubleshooting notebook\"\n",
    "    )\n",
    "else:\n",
    "    print(\"API key found and looks good so far!\")"
   ]
  },
  {
   "cell_type": "markdown",
   "id": "3f2e55f8",
   "metadata": {},
   "source": [
    "## `03` Setup LLM"
   ]
  },
  {
   "cell_type": "code",
   "execution_count": 31,
   "id": "7736ebf2",
   "metadata": {},
   "outputs": [],
   "source": [
    "llm = ChatGoogleGenerativeAI(\n",
    "    api_key=GEMINI_API_KEY,\n",
    "    model=GEMINI_MODEL,\n",
    "    temperature=0,\n",
    "    max_output_tokens=1024,\n",
    ")"
   ]
  },
  {
   "cell_type": "markdown",
   "id": "1304871a",
   "metadata": {},
   "source": [
    "## `04` Prompt"
   ]
  },
  {
   "cell_type": "code",
   "execution_count": 32,
   "id": "cf1c3d4a",
   "metadata": {},
   "outputs": [],
   "source": [
    "summary_template = \"\"\"\n",
    "                    given the information {information} about a person fron I, I want you to create:\n",
    "                    1. A short summary of the person\n",
    "                    2. two interesting facts about the person\n",
    "\n",
    "                    Return the summary in markdown format.\n",
    "                    \"\"\"\n",
    "\n",
    "summary_prompt_template = PromptTemplate(\n",
    "    input_variables=[\"information\"],\n",
    "    template=summary_template,\n",
    ")"
   ]
  },
  {
   "cell_type": "code",
   "execution_count": 33,
   "metadata": {},
   "outputs": [],
   "source": [
    "information = \"\"\"\n",
    "                Name: John Doe\n",
    "                Age: 30\n",
    "                Occupation: Software Engineer\n",
    "                Hobbies: Reading, Hiking, Playing Guitar\n",
    "                Education: Bachelor's Degree in Computer Science\n",
    "                Location: San Francisco, CA\n",
    "                Skills: Python, JavaScript, React, Node.js\n",
    "                Languages: English, Spanish\n",
    "                Achievements: Developed a popular open-source library, Speaker at tech conferences\n",
    "                Volunteer Work: Mentoring students in coding bootcamps, Participating in local hackathons\n",
    "                Personal Interests: Traveling, Cooking, Photography\n",
    "                Motto: \"Code is like humor. When you have to explain it, it’s bad.\"\n",
    "              \"\"\""
   ]
  },
  {
   "cell_type": "code",
   "execution_count": 34,
   "metadata": {},
   "outputs": [],
   "source": [
    "chain = summary_prompt_template | llm"
   ]
  },
  {
   "cell_type": "code",
   "execution_count": null,
   "id": "158f4c7c",
   "metadata": {},
   "outputs": [],
   "source": [
    "result = chain.invoke(input= {\"information\": information})\n",
    "display(Markdown(f\"**Summary:** \\n\\n {result}\"))"
   ]
  },
  {
   "cell_type": "code",
   "execution_count": null,
   "id": "560781a4",
   "metadata": {},
   "outputs": [],
   "source": []
  }
 ],
 "metadata": {
  "kernelspec": {
   "display_name": ".venv",
   "language": "python",
   "name": "python3"
  },
  "language_info": {
   "codemirror_mode": {
    "name": "ipython",
    "version": 3
   },
   "file_extension": ".py",
   "mimetype": "text/x-python",
   "name": "python",
   "nbconvert_exporter": "python",
   "pygments_lexer": "ipython3",
   "version": "3.10.12"
  }
 },
 "nbformat": 4,
 "nbformat_minor": 5
}
