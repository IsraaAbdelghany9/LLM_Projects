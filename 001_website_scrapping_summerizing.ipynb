{
 "cells": [
  {
   "cell_type": "markdown",
   "id": "72d8d0c4",
   "metadata": {
    "vscode": {
     "languageId": "plaintext"
    }
   },
   "source": [
    "# 001_website_scrapping_summerizing"
   ]
  },
  {
   "cell_type": "markdown",
   "id": "5692f249",
   "metadata": {},
   "source": [
    "## `01` Imports"
   ]
  },
  {
   "cell_type": "code",
   "execution_count": 2,
   "id": "d3ca281b",
   "metadata": {},
   "outputs": [
    {
     "name": "stderr",
     "output_type": "stream",
     "text": [
      "/home/israa/Desktop/LLM_Projects/.venv/lib/python3.10/site-packages/tqdm/auto.py:21: TqdmWarning: IProgress not found. Please update jupyter and ipywidgets. See https://ipywidgets.readthedocs.io/en/stable/user_install.html\n",
      "  from .autonotebook import tqdm as notebook_tqdm\n"
     ]
    }
   ],
   "source": [
    "import os\n",
    "import requests\n",
    "from dotenv import load_dotenv\n",
    "from bs4 import BeautifulSoup\n",
    "from IPython.display import Markdown, display\n",
    "import google.generativeai as genai"
   ]
  },
  {
   "cell_type": "markdown",
   "id": "f9eb57d5",
   "metadata": {},
   "source": [
    "## `02` VAR"
   ]
  },
  {
   "cell_type": "code",
   "execution_count": 3,
   "id": "d0ccea35",
   "metadata": {},
   "outputs": [
    {
     "data": {
      "text/plain": [
       "True"
      ]
     },
     "execution_count": 3,
     "metadata": {},
     "output_type": "execute_result"
    }
   ],
   "source": [
    "# Load environment variables from .env file\n",
    "load_dotenv(\".env\")"
   ]
  },
  {
   "cell_type": "code",
   "execution_count": null,
   "id": "1f239ad0",
   "metadata": {},
   "outputs": [],
   "source": [
    "GEMINI_API_KEY = os.getenv(\"GEMINI_API_KEY\")\n",
    "GEMINI_MODEL = os.getenv(\"GEMINI_MODEL\", \"gemini-1.5-flash\")"
   ]
  },
  {
   "cell_type": "code",
   "execution_count": null,
   "id": "093b04d0",
   "metadata": {},
   "outputs": [
    {
     "name": "stdout",
     "output_type": "stream",
     "text": [
      "API key found and looks good so far!\n"
     ]
    }
   ],
   "source": [
    "if not GEMINI_API_KEY:\n",
    "    print(\n",
    "        \"No API key was found - please head over to the troubleshooting notebook in this folder to identify & fix!\"\n",
    "    )\n",
    "elif not GEMINI_API_KEY.startswith(\"AIzaSy\"):\n",
    "    print(\n",
    "        \"An API key was found, but it doesn't start AIzaSy; please check you're using the right key - see troubleshooting notebook\"\n",
    "    )\n",
    "elif GEMINI_API_KEY.strip() != GEMINI_API_KEY:\n",
    "    print(\n",
    "        \"An API key was found, but it looks like it might have space or tab characters at the start or end - please remove them\"\n",
    "    )\n",
    "else:\n",
    "    print(\"API key found and looks good so far!\")"
   ]
  },
  {
   "cell_type": "markdown",
   "id": "66152ca6",
   "metadata": {},
   "source": [
    "## `03` Model definition"
   ]
  },
  {
   "cell_type": "code",
   "execution_count": 19,
   "id": "4d63ec81",
   "metadata": {},
   "outputs": [],
   "source": [
    "genai.configure(api_key=GEMINI_API_KEY)\n",
    "model = genai.GenerativeModel(GEMINI_MODEL)  # make sure to call it"
   ]
  },
  {
   "cell_type": "code",
   "execution_count": 18,
   "id": "99efb7cf",
   "metadata": {},
   "outputs": [
    {
     "data": {
      "text/markdown": [
       "The website https://www.wikipedia.org/ is the home page of Wikipedia, a free, multilingual online encyclopedia written and maintained by a community of volunteer editors.  The homepage provides access to various features, including a search bar, featured articles,  \"In the news\" sections highlighting current events, and links to different language versions of Wikipedia.  It showcases the project's collaborative nature and aims to provide a comprehensive and freely accessible knowledge base to the world.\n"
      ],
      "text/plain": [
       "<IPython.core.display.Markdown object>"
      ]
     },
     "metadata": {},
     "output_type": "display_data"
    }
   ],
   "source": [
    "response = model.generate_content(\n",
    "    [\"Summarize the content of the website https://www.wikipedia.org/\"],\n",
    "    generation_config={\n",
    "        \"max_output_tokens\": 1000,\n",
    "        \"temperature\": 0.5,\n",
    "        \"top_p\": 0.95,\n",
    "        \"top_k\": 40,\n",
    "        \"stop_sequences\": [\"\\n\\n\"],\n",
    "    },\n",
    ")\n",
    "display(Markdown(response.text))"
   ]
  },
  {
   "cell_type": "code",
   "execution_count": null,
   "id": "e92a5e20",
   "metadata": {},
   "outputs": [],
   "source": []
  }
 ],
 "metadata": {
  "kernelspec": {
   "display_name": ".venv",
   "language": "python",
   "name": "python3"
  },
  "language_info": {
   "codemirror_mode": {
    "name": "ipython",
    "version": 3
   },
   "file_extension": ".py",
   "mimetype": "text/x-python",
   "name": "python",
   "nbconvert_exporter": "python",
   "pygments_lexer": "ipython3",
   "version": "3.10.12"
  }
 },
 "nbformat": 4,
 "nbformat_minor": 5
}
