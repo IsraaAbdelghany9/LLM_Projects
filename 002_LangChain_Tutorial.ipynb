{
 "cells": [
  {
   "cell_type": "markdown",
   "id": "a81f6332",
   "metadata": {},
   "source": [
    "# langchain tutorial"
   ]
  },
  {
   "cell_type": "markdown",
   "id": "a03e4ce7",
   "metadata": {},
   "source": [
    "## `01` Install Packages"
   ]
  },
  {
   "cell_type": "code",
   "execution_count": 4,
   "metadata": {},
   "outputs": [],
   "source": [
    "# !pip install langchain-google-genai==2.1.7\n",
    "# !pip install langchain-community==0.3.27\n",
    "# !pip getpass4==0.0.14.1"
   ]
  },
  {
   "cell_type": "markdown",
   "id": "a9932ddc",
   "metadata": {},
   "source": [
    "## `02` Impoting Packages"
   ]
  },
  {
   "cell_type": "code",
   "execution_count": 21,
   "metadata": {},
   "outputs": [],
   "source": [
    "# import getpass ## is used to get the API key from the user if you do not want to add it in the environment variables.\n",
    "import os\n",
    "from dotenv import load_dotenv\n",
    "from langchain_google_genai import ChatGoogleGenerativeAI\n",
    "from IPython.display import Markdown, display, Image\n",
    "import base64\n",
    "\n",
    "from langchain_core.messages import HumanMessage"
   ]
  },
  {
   "cell_type": "code",
   "execution_count": 2,
   "id": "9de9f7f9",
   "metadata": {},
   "outputs": [],
   "source": [
    "def display_markdown(response: str) -> None:\n",
    "    \"\"\"Display text as Markdown in Jupyter Notebook.\"\"\"\n",
    "    display(Markdown(response))"
   ]
  },
  {
   "cell_type": "markdown",
   "id": "f2496a2f",
   "metadata": {},
   "source": [
    "## `03` Setup API Key"
   ]
  },
  {
   "cell_type": "code",
   "execution_count": 3,
   "id": "9cda8abe",
   "metadata": {},
   "outputs": [
    {
     "data": {
      "text/plain": [
       "True"
      ]
     },
     "execution_count": 3,
     "metadata": {},
     "output_type": "execute_result"
    }
   ],
   "source": [
    "load_dotenv(\".env\")"
   ]
  },
  {
   "cell_type": "code",
   "execution_count": 4,
   "id": "9abef629",
   "metadata": {},
   "outputs": [],
   "source": [
    "GEMINI_API_KEY= os.getenv(\"GEMINI_API_KEY\")\n",
    "GEMINI_MODEL= os.getenv(\"GEMINI_MODEL\", \"gemini-1.5-flash\")"
   ]
  },
  {
   "cell_type": "code",
   "execution_count": 5,
   "id": "95a8e88c",
   "metadata": {},
   "outputs": [
    {
     "name": "stdout",
     "output_type": "stream",
     "text": [
      "API key found and looks good so far!\n"
     ]
    }
   ],
   "source": [
    "if not GEMINI_API_KEY:\n",
    "    print(\"No API key was found - please head over to the troubleshooting notebook in this folder to identify & fix!\")\n",
    "elif not GEMINI_API_KEY.startswith(\"AIzaSy\"):\n",
    "    print(\"An API key was found, but it doesn't start sk-proj-; please check you're using the right key - see troubleshooting notebook\")\n",
    "elif GEMINI_API_KEY.strip() != GEMINI_API_KEY:\n",
    "    print(\"An API key was found, but it looks like it might have space or tab characters at the start or end - please remove them - see troubleshooting notebook\")\n",
    "else:\n",
    "    print(\"API key found and looks good so far!\")"
   ]
  },
  {
   "cell_type": "markdown",
   "id": "7e99f11a",
   "metadata": {},
   "source": [
    "## `04` Setup LLM"
   ]
  },
  {
   "cell_type": "code",
   "execution_count": 6,
   "id": "79abf63e",
   "metadata": {},
   "outputs": [],
   "source": [
    "llm = ChatGoogleGenerativeAI(\n",
    "    model=GEMINI_MODEL,\n",
    "    temperature=0,\n",
    "    max_tokens=None,\n",
    "    timeout=None,\n",
    "    max_retries=2,\n",
    "    api_key=GEMINI_API_KEY,\n",
    ")"
   ]
  },
  {
   "cell_type": "markdown",
   "id": "9f2ab2f1",
   "metadata": {},
   "source": [
    "## `05` Tasks"
   ]
  },
  {
   "cell_type": "markdown",
   "id": "e0ac5a2c",
   "metadata": {},
   "source": [
    "### `05.1` Task 1 translator"
   ]
  },
  {
   "cell_type": "code",
   "execution_count": null,
   "id": "c3579248",
   "metadata": {},
   "outputs": [],
   "source": [
    "messages = [\n",
    "    (\n",
    "        \"system\",\n",
    "        \"You are a helpful assistant that translates English to French.\"\n",
    "        \"Translate the user sentence.\",\n",
    "    ),\n",
    "    (\"human\", \"I love programming.\"),\n",
    "]"
   ]
  },
  {
   "cell_type": "code",
   "execution_count": null,
   "id": "9cf4a753",
   "metadata": {},
   "outputs": [
    {
     "data": {
      "text/markdown": [
       "**Input:** I love programming.\n",
       "\n",
       "**Output:** J'aime la programmation."
      ],
      "text/plain": [
       "<IPython.core.display.Markdown object>"
      ]
     },
     "metadata": {},
     "output_type": "display_data"
    }
   ],
   "source": [
    "ai_msg = llm.invoke(messages)\n",
    "display_markdown(f\"**Input:** {messages[1][1]}\\n\\n**Output:** {ai_msg.content}\")"
   ]
  },
  {
   "cell_type": "markdown",
   "id": "41bd16b6",
   "metadata": {},
   "source": [
    "### `05.2` Task 2 Multimodal inputs"
   ]
  },
  {
   "cell_type": "markdown",
   "id": "67f14da6",
   "metadata": {},
   "source": [
    "#### Example using a public URL (remains the same)"
   ]
  },
  {
   "cell_type": "code",
   "execution_count": null,
   "id": "dc040556",
   "metadata": {},
   "outputs": [],
   "source": [
    "message_url = HumanMessage(\n",
    "    content=[\n",
    "        {\n",
    "            \"type\": \"text\",\n",
    "            \"text\": \"Describe the image at the URL. Response in Markdown format.\",\n",
    "        },\n",
    "        {\"type\": \"image_url\", \"image_url\": \"https://picsum.photos/seed/picsum/200/300\"},\n",
    "    ]\n",
    ")"
   ]
  },
  {
   "cell_type": "code",
   "execution_count": 16,
   "id": "94f38e93",
   "metadata": {},
   "outputs": [
    {
     "data": {
      "text/markdown": [
       "**Input:** Describe the image at the URL. Response in Markdown format.\n",
       "\n",
       "**Image URL:** https://picsum.photos/seed/picsum/200/300\n",
       "\n",
       "**Output:** Here's a description of the image:\n",
       "\n",
       "The image is a landscape photograph showcasing a majestic snow-capped mountain peak at either sunrise or sunset.\n",
       "\n",
       "* **Sky:** The sky dominates the upper two-thirds of the image, filled with a soft, pastel palette of pinks, oranges, and purples, indicative of the golden hour.  Thin, wispy clouds are scattered across the sky.\n",
       "\n",
       "* **Mountain:** A prominent, sharply pointed snow-covered mountain peak rises from the lower third of the image.  The snow appears pristine and undisturbed, except for some subtle textural variations suggesting wind or shadows.  A slight haze or atmospheric perspective softens the details of the mountain's upper reaches.\n",
       "\n",
       "* **Foreground:** The foreground consists of a gently sloping expanse of snow, appearing smooth and relatively flat, leading the eye towards the mountain.\n",
       "\n",
       "* **Overall:** The image evokes a sense of serenity, vastness, and the beauty of a pristine, mountainous landscape. The soft light and color palette contribute to a peaceful and almost ethereal atmosphere."
      ],
      "text/plain": [
       "<IPython.core.display.Markdown object>"
      ]
     },
     "metadata": {},
     "output_type": "display_data"
    }
   ],
   "source": [
    "result_url = llm.invoke([message_url])\n",
    "display_markdown(f\"**Input:** {message_url.content[0]['text']}\\n\\n**Image URL:** {message_url.content[1]['image_url']}\\n\\n**Output:** {result_url.content}\")"
   ]
  },
  {
   "cell_type": "markdown",
   "id": "6158488e",
   "metadata": {},
   "source": [
    "#### Example using a local image file encoded in base64 \n"
   ]
  },
  {
   "cell_type": "code",
   "execution_count": null,
   "id": "e1adbfa4",
   "metadata": {},
   "outputs": [],
   "source": [
    "image_file_path = \"/home/israa/Pictures/cat.jpeg\"\n",
    "\n",
    "with open(image_file_path, \"rb\") as image_file:\n",
    "    encoded_image = base64.b64encode(image_file.read()).decode(\"utf-8\")\n",
    "\n",
    "message_local = HumanMessage(\n",
    "    content=[\n",
    "        {\n",
    "            \"type\": \"text\", \n",
    "            \"text\": \"Describe the local image. Rsesponse in Markdown format.\"\n",
    "        },\n",
    "\n",
    "        {\n",
    "            \"type\": \"image_url\", \n",
    "            \"image_url\": f\"data:image/png;base64,{encoded_image}\"\n",
    "        },\n",
    "    ]\n",
    ")"
   ]
  },
  {
   "cell_type": "code",
   "execution_count": 20,
   "id": "5c0381be",
   "metadata": {},
   "outputs": [
    {
     "data": {
      "text/markdown": [
       "**Input:** Describe the local image. Rsesponse in Markdown format.\n",
       "\n",
       "**Output:** Here's a description of the image in markdown format:\n",
       "\n",
       "The image shows a close-up of an adorable, young, white kitten.  \n",
       "\n",
       "* **Kitten:** The kitten is predominantly white with a slightly creamy or light beige tint to its fur. Its eyes are a striking light blue.  It has small, pink nose and ears that are pointed upright.  The kitten appears to be small, likely a few weeks or months old. Its paws are neatly tucked under its chest.\n",
       "\n",
       "* **Setting:** The kitten is resting on a dark brown and tan patterned fabric, possibly a blanket or piece of fur, that resembles a leopard or cheetah print. The background is dark and out of focus, drawing attention to the kitten.\n",
       "\n",
       "* **Overall Impression:** The image conveys a sense of cuteness and innocence. The kitten's posture and expression suggest curiosity or alertness. The dark background and soft lighting enhance the kitten's features and create a visually appealing contrast."
      ],
      "text/plain": [
       "<IPython.core.display.Markdown object>"
      ]
     },
     "metadata": {},
     "output_type": "display_data"
    }
   ],
   "source": [
    "result_local = llm.invoke([message_local])\n",
    "display_markdown(f\"**Input:** {message_local.content[0]['text']}\\n\\n**Output:** {result_local.content}\")"
   ]
  },
  {
   "cell_type": "markdown",
   "id": "91aa2982",
   "metadata": {},
   "source": [
    "#### Audio Input"
   ]
  },
  {
   "cell_type": "code",
   "execution_count": null,
   "id": "d12d43dc",
   "metadata": {},
   "outputs": [],
   "source": [
    "# Ensure you have an audio file named 'example_audio.mp3' or provide the correct path.\n",
    "audio_file_path = \"example_audio.mp3\"\n",
    "audio_mime_type = \"audio/mpeg\"\n",
    "\n",
    "\n",
    "with open(audio_file_path, \"rb\") as audio_file:\n",
    "    encoded_audio = base64.b64encode(audio_file.read()).decode(\"utf-8\")\n",
    "\n",
    "message = HumanMessage(\n",
    "    content=[\n",
    "        {\"type\": \"text\", \"text\": \"Transcribe the audio.\"},\n",
    "        {\n",
    "            \"type\": \"media\",\n",
    "            \"data\": encoded_audio,  # Use base64 string directly\n",
    "            \"mime_type\": audio_mime_type,\n",
    "        },\n",
    "    ]\n",
    ")"
   ]
  },
  {
   "cell_type": "code",
   "execution_count": null,
   "id": "f4a9b567",
   "metadata": {},
   "outputs": [],
   "source": [
    "response = llm.invoke([message])  # Uncomment to run\n",
    "print(f\"Response for audio: {response.content}\")"
   ]
  },
  {
   "cell_type": "markdown",
   "id": "c7f83dec",
   "metadata": {},
   "source": [
    "#### Video Input"
   ]
  },
  {
   "cell_type": "code",
   "execution_count": null,
   "id": "2efc07a3",
   "metadata": {},
   "outputs": [],
   "source": [
    "# Ensure you have a video file named 'example_video.mp4' or provide the correct path.\n",
    "video_file_path = \"example_video.mp4\"\n",
    "video_mime_type = \"video/mp4\"\n",
    "\n",
    "\n",
    "with open(video_file_path, \"rb\") as video_file:\n",
    "    encoded_video = base64.b64encode(video_file.read()).decode(\"utf-8\")\n",
    "\n",
    "message = HumanMessage(\n",
    "    content=[\n",
    "        {\"type\": \"text\", \"text\": \"Describe the first few frames of the video.\"},\n",
    "        {\n",
    "            \"type\": \"media\",\n",
    "            \"data\": encoded_video,  # Use base64 string directly\n",
    "            \"mime_type\": video_mime_type,\n",
    "        },\n",
    "    ]\n",
    ")"
   ]
  },
  {
   "cell_type": "code",
   "execution_count": null,
   "id": "ee2f824a",
   "metadata": {},
   "outputs": [],
   "source": [
    "response = llm.invoke([message])  # Uncomment to run\n",
    "print(f\"Response for video: {response.content}\")"
   ]
  },
  {
   "cell_type": "markdown",
   "id": "327bf6ac",
   "metadata": {},
   "source": [
    "#### Image Generation (Multimodal Output)"
   ]
  },
  {
   "cell_type": "code",
   "execution_count": null,
   "id": "3c7b1b44",
   "metadata": {},
   "outputs": [],
   "source": [
    "import base64\n",
    "\n",
    "from IPython.display import , display\n",
    "from langchain_core.messages import AIMessage\n",
    "\n",
    "\n",
    "llm = ChatGoogleGenerativeAI(model=\"models/gemini-2.0-flash-preview-image-generation\")\n",
    "\n",
    "message = {\n",
    "    \"role\": \"user\",\n",
    "    \"content\": \"Generate a photorealistic image of a cuddly cat wearing a hat.\",\n",
    "}\n",
    "\n",
    "response = llm.invoke(\n",
    "    [message],\n",
    "    generation_config=dict(response_modalities=[\"TEXT\", \"IMAGE\"]),\n",
    ")\n",
    "\n",
    "\n",
    "def _get_image_base64(response: AIMessage) -> None:\n",
    "    image_block = next(\n",
    "        block\n",
    "        for block in response.content\n",
    "        if isinstance(block, dict) and block.get(\"image_url\")\n",
    "    )\n",
    "    return image_block[\"image_url\"].get(\"url\").split(\",\")[-1]\n",
    "\n",
    "\n",
    "image_base64 = _get_image_base64(response)\n",
    "display(Image(data=base64.b64decode(image_base64), width=300))"
   ]
  },
  {
   "cell_type": "code",
   "execution_count": null,
   "id": "397db7fa",
   "metadata": {},
   "outputs": [],
   "source": []
  },
  {
   "cell_type": "code",
   "execution_count": null,
   "metadata": {},
   "outputs": [],
   "source": []
  },
  {
   "cell_type": "code",
   "execution_count": null,
   "metadata": {},
   "outputs": [],
   "source": []
  }
 ],
 "metadata": {
  "kernelspec": {
   "display_name": ".venv",
   "language": "python",
   "name": "python3"
  },
  "language_info": {
   "codemirror_mode": {
    "name": "ipython",
    "version": 3
   },
   "file_extension": ".py",
   "mimetype": "text/x-python",
   "name": "python",
   "nbconvert_exporter": "python",
   "pygments_lexer": "ipython3",
   "version": "3.10.12"
  }
 },
 "nbformat": 4,
 "nbformat_minor": 5
}
